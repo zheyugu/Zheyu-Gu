{
 "cells": [
  {
   "cell_type": "code",
   "execution_count": 626,
   "id": "2c0b6f17",
   "metadata": {},
   "outputs": [],
   "source": [
    "# packages used in this tutorial \n",
    "import numpy as np\n",
    "import pandas as pd\n",
    "import matplotlib.pyplot as plt\n",
    "import seaborn as sns\n",
    "from sklearn.model_selection import train_test_split\n",
    "# keras is only to get boston housing data\n",
    "# boston housing is also here: from sklearn.datasets import load_boston\n",
    "#import tensorflow as tf\n",
    "from tensorflow import keras\n",
    "\n",
    "# gradient boosting \n",
    "from xgboost import XGBRegressor\n",
    "\n",
    "# random forest\n",
    "from sklearn.ensemble import RandomForestRegressor\n",
    "\n",
    "# evaluation metrics\n",
    "from sklearn.metrics import mean_squared_error"
   ]
  },
  {
   "cell_type": "code",
   "execution_count": 627,
   "id": "f3a08104",
   "metadata": {},
   "outputs": [
    {
     "data": {
      "text/html": [
       "<div>\n",
       "<style scoped>\n",
       "    .dataframe tbody tr th:only-of-type {\n",
       "        vertical-align: middle;\n",
       "    }\n",
       "\n",
       "    .dataframe tbody tr th {\n",
       "        vertical-align: top;\n",
       "    }\n",
       "\n",
       "    .dataframe thead th {\n",
       "        text-align: right;\n",
       "    }\n",
       "</style>\n",
       "<table border=\"1\" class=\"dataframe\">\n",
       "  <thead>\n",
       "    <tr style=\"text-align: right;\">\n",
       "      <th></th>\n",
       "      <th>PRECTOTCORR</th>\n",
       "      <th>QV2M</th>\n",
       "      <th>PS</th>\n",
       "      <th>WS50M</th>\n",
       "      <th>T2M</th>\n",
       "      <th>TS</th>\n",
       "      <th>ALLSKY_SFC_SW_DWN</th>\n",
       "      <th>WS10M</th>\n",
       "      <th>ALLSKY_SFC_UV_INDEX</th>\n",
       "      <th>CLRSKY_SFC_PAR_TOT</th>\n",
       "      <th>ALLSKY_SFC_PAR_TOT</th>\n",
       "      <th>WS2M</th>\n",
       "    </tr>\n",
       "  </thead>\n",
       "  <tbody>\n",
       "    <tr>\n",
       "      <th>0</th>\n",
       "      <td>0.00</td>\n",
       "      <td>5.00</td>\n",
       "      <td>102.31</td>\n",
       "      <td>5.64</td>\n",
       "      <td>5.01</td>\n",
       "      <td>5.73</td>\n",
       "      <td>1.78</td>\n",
       "      <td>4.37</td>\n",
       "      <td>0.16</td>\n",
       "      <td>43.41</td>\n",
       "      <td>34.7</td>\n",
       "      <td>3.45</td>\n",
       "    </tr>\n",
       "    <tr>\n",
       "      <th>1</th>\n",
       "      <td>0.05</td>\n",
       "      <td>6.29</td>\n",
       "      <td>101.94</td>\n",
       "      <td>7.93</td>\n",
       "      <td>7.73</td>\n",
       "      <td>7.12</td>\n",
       "      <td>1.74</td>\n",
       "      <td>5.63</td>\n",
       "      <td>0.18</td>\n",
       "      <td>44.10</td>\n",
       "      <td>34.5</td>\n",
       "      <td>4.35</td>\n",
       "    </tr>\n",
       "    <tr>\n",
       "      <th>2</th>\n",
       "      <td>2.75</td>\n",
       "      <td>7.14</td>\n",
       "      <td>101.70</td>\n",
       "      <td>7.69</td>\n",
       "      <td>9.68</td>\n",
       "      <td>8.51</td>\n",
       "      <td>1.49</td>\n",
       "      <td>5.07</td>\n",
       "      <td>0.20</td>\n",
       "      <td>44.27</td>\n",
       "      <td>30.3</td>\n",
       "      <td>3.78</td>\n",
       "    </tr>\n",
       "    <tr>\n",
       "      <th>3</th>\n",
       "      <td>12.34</td>\n",
       "      <td>8.12</td>\n",
       "      <td>100.74</td>\n",
       "      <td>12.53</td>\n",
       "      <td>11.35</td>\n",
       "      <td>9.63</td>\n",
       "      <td>1.12</td>\n",
       "      <td>9.12</td>\n",
       "      <td>0.18</td>\n",
       "      <td>43.63</td>\n",
       "      <td>23.5</td>\n",
       "      <td>7.01</td>\n",
       "    </tr>\n",
       "    <tr>\n",
       "      <th>4</th>\n",
       "      <td>4.00</td>\n",
       "      <td>3.42</td>\n",
       "      <td>101.91</td>\n",
       "      <td>9.95</td>\n",
       "      <td>2.76</td>\n",
       "      <td>5.51</td>\n",
       "      <td>2.62</td>\n",
       "      <td>8.23</td>\n",
       "      <td>0.17</td>\n",
       "      <td>43.88</td>\n",
       "      <td>49.2</td>\n",
       "      <td>6.63</td>\n",
       "    </tr>\n",
       "  </tbody>\n",
       "</table>\n",
       "</div>"
      ],
      "text/plain": [
       "   PRECTOTCORR  QV2M      PS  WS50M    T2M    TS  ALLSKY_SFC_SW_DWN  WS10M  \\\n",
       "0         0.00  5.00  102.31   5.64   5.01  5.73               1.78   4.37   \n",
       "1         0.05  6.29  101.94   7.93   7.73  7.12               1.74   5.63   \n",
       "2         2.75  7.14  101.70   7.69   9.68  8.51               1.49   5.07   \n",
       "3        12.34  8.12  100.74  12.53  11.35  9.63               1.12   9.12   \n",
       "4         4.00  3.42  101.91   9.95   2.76  5.51               2.62   8.23   \n",
       "\n",
       "   ALLSKY_SFC_UV_INDEX  CLRSKY_SFC_PAR_TOT  ALLSKY_SFC_PAR_TOT  WS2M  \n",
       "0                 0.16               43.41                34.7  3.45  \n",
       "1                 0.18               44.10                34.5  4.35  \n",
       "2                 0.20               44.27                30.3  3.78  \n",
       "3                 0.18               43.63                23.5  7.01  \n",
       "4                 0.17               43.88                49.2  6.63  "
      ]
     },
     "execution_count": 627,
     "metadata": {},
     "output_type": "execute_result"
    }
   ],
   "source": [
    "weather_df = pd.read_csv('data2.csv')\n",
    "weather_df.head()"
   ]
  },
  {
   "cell_type": "code",
   "execution_count": 628,
   "id": "d128e919",
   "metadata": {},
   "outputs": [
    {
     "data": {
      "text/html": [
       "<div>\n",
       "<style scoped>\n",
       "    .dataframe tbody tr th:only-of-type {\n",
       "        vertical-align: middle;\n",
       "    }\n",
       "\n",
       "    .dataframe tbody tr th {\n",
       "        vertical-align: top;\n",
       "    }\n",
       "\n",
       "    .dataframe thead th {\n",
       "        text-align: right;\n",
       "    }\n",
       "</style>\n",
       "<table border=\"1\" class=\"dataframe\">\n",
       "  <thead>\n",
       "    <tr style=\"text-align: right;\">\n",
       "      <th></th>\n",
       "      <th>QV2M</th>\n",
       "      <th>PS</th>\n",
       "      <th>WS50M</th>\n",
       "      <th>T2M</th>\n",
       "      <th>TS</th>\n",
       "      <th>ALLSKY_SFC_SW_DWN</th>\n",
       "      <th>WS10M</th>\n",
       "      <th>ALLSKY_SFC_UV_INDEX</th>\n",
       "      <th>CLRSKY_SFC_PAR_TOT</th>\n",
       "      <th>ALLSKY_SFC_PAR_TOT</th>\n",
       "      <th>WS2M</th>\n",
       "    </tr>\n",
       "  </thead>\n",
       "  <tbody>\n",
       "    <tr>\n",
       "      <th>0</th>\n",
       "      <td>5.00</td>\n",
       "      <td>102.31</td>\n",
       "      <td>5.64</td>\n",
       "      <td>5.01</td>\n",
       "      <td>5.73</td>\n",
       "      <td>1.78</td>\n",
       "      <td>4.37</td>\n",
       "      <td>0.16</td>\n",
       "      <td>43.41</td>\n",
       "      <td>34.7</td>\n",
       "      <td>3.45</td>\n",
       "    </tr>\n",
       "    <tr>\n",
       "      <th>1</th>\n",
       "      <td>6.29</td>\n",
       "      <td>101.94</td>\n",
       "      <td>7.93</td>\n",
       "      <td>7.73</td>\n",
       "      <td>7.12</td>\n",
       "      <td>1.74</td>\n",
       "      <td>5.63</td>\n",
       "      <td>0.18</td>\n",
       "      <td>44.10</td>\n",
       "      <td>34.5</td>\n",
       "      <td>4.35</td>\n",
       "    </tr>\n",
       "    <tr>\n",
       "      <th>2</th>\n",
       "      <td>7.14</td>\n",
       "      <td>101.70</td>\n",
       "      <td>7.69</td>\n",
       "      <td>9.68</td>\n",
       "      <td>8.51</td>\n",
       "      <td>1.49</td>\n",
       "      <td>5.07</td>\n",
       "      <td>0.20</td>\n",
       "      <td>44.27</td>\n",
       "      <td>30.3</td>\n",
       "      <td>3.78</td>\n",
       "    </tr>\n",
       "    <tr>\n",
       "      <th>3</th>\n",
       "      <td>8.12</td>\n",
       "      <td>100.74</td>\n",
       "      <td>12.53</td>\n",
       "      <td>11.35</td>\n",
       "      <td>9.63</td>\n",
       "      <td>1.12</td>\n",
       "      <td>9.12</td>\n",
       "      <td>0.18</td>\n",
       "      <td>43.63</td>\n",
       "      <td>23.5</td>\n",
       "      <td>7.01</td>\n",
       "    </tr>\n",
       "    <tr>\n",
       "      <th>4</th>\n",
       "      <td>3.42</td>\n",
       "      <td>101.91</td>\n",
       "      <td>9.95</td>\n",
       "      <td>2.76</td>\n",
       "      <td>5.51</td>\n",
       "      <td>2.62</td>\n",
       "      <td>8.23</td>\n",
       "      <td>0.17</td>\n",
       "      <td>43.88</td>\n",
       "      <td>49.2</td>\n",
       "      <td>6.63</td>\n",
       "    </tr>\n",
       "  </tbody>\n",
       "</table>\n",
       "</div>"
      ],
      "text/plain": [
       "   QV2M      PS  WS50M    T2M    TS  ALLSKY_SFC_SW_DWN  WS10M  \\\n",
       "0  5.00  102.31   5.64   5.01  5.73               1.78   4.37   \n",
       "1  6.29  101.94   7.93   7.73  7.12               1.74   5.63   \n",
       "2  7.14  101.70   7.69   9.68  8.51               1.49   5.07   \n",
       "3  8.12  100.74  12.53  11.35  9.63               1.12   9.12   \n",
       "4  3.42  101.91   9.95   2.76  5.51               2.62   8.23   \n",
       "\n",
       "   ALLSKY_SFC_UV_INDEX  CLRSKY_SFC_PAR_TOT  ALLSKY_SFC_PAR_TOT  WS2M  \n",
       "0                 0.16               43.41                34.7  3.45  \n",
       "1                 0.18               44.10                34.5  4.35  \n",
       "2                 0.20               44.27                30.3  3.78  \n",
       "3                 0.18               43.63                23.5  7.01  \n",
       "4                 0.17               43.88                49.2  6.63  "
      ]
     },
     "execution_count": 628,
     "metadata": {},
     "output_type": "execute_result"
    }
   ],
   "source": [
    "weather_df_num=weather_df.loc[:,[ 'QV2M', 'PS', 'WS50M','T2M','TS','ALLSKY_SFC_SW_DWN','WS10M','ALLSKY_SFC_UV_INDEX','CLRSKY_SFC_PAR_TOT','ALLSKY_SFC_PAR_TOT','WS2M']] #want to predict PRCP from the rest\n",
    "weather_df_num.head()#seperate precipitation from AWND(Monthly Average Wind Speed),HDSD(Heating Degree Days (season-to-date)),Snowfall and TAVG(Average Temperature)"
   ]
  },
  {
   "cell_type": "code",
   "execution_count": 629,
   "id": "997383d0",
   "metadata": {},
   "outputs": [
    {
     "data": {
      "text/html": [
       "<div>\n",
       "<style scoped>\n",
       "    .dataframe tbody tr th:only-of-type {\n",
       "        vertical-align: middle;\n",
       "    }\n",
       "\n",
       "    .dataframe tbody tr th {\n",
       "        vertical-align: top;\n",
       "    }\n",
       "\n",
       "    .dataframe thead th {\n",
       "        text-align: right;\n",
       "    }\n",
       "</style>\n",
       "<table border=\"1\" class=\"dataframe\">\n",
       "  <thead>\n",
       "    <tr style=\"text-align: right;\">\n",
       "      <th></th>\n",
       "      <th>QV2M</th>\n",
       "      <th>PS</th>\n",
       "      <th>WS50M</th>\n",
       "      <th>T2M</th>\n",
       "      <th>TS</th>\n",
       "      <th>ALLSKY_SFC_SW_DWN</th>\n",
       "      <th>WS10M</th>\n",
       "      <th>ALLSKY_SFC_UV_INDEX</th>\n",
       "      <th>CLRSKY_SFC_PAR_TOT</th>\n",
       "      <th>ALLSKY_SFC_PAR_TOT</th>\n",
       "      <th>WS2M</th>\n",
       "    </tr>\n",
       "  </thead>\n",
       "  <tbody>\n",
       "    <tr>\n",
       "      <th>7620</th>\n",
       "      <td>0.798525</td>\n",
       "      <td>-0.044085</td>\n",
       "      <td>1.023715</td>\n",
       "      <td>0.543400</td>\n",
       "      <td>0.383821</td>\n",
       "      <td>-1.152446</td>\n",
       "      <td>0.612097</td>\n",
       "      <td>-0.901784</td>\n",
       "      <td>-1.071277</td>\n",
       "      <td>-1.126210</td>\n",
       "      <td>0.504667</td>\n",
       "    </tr>\n",
       "    <tr>\n",
       "      <th>7388</th>\n",
       "      <td>-0.780996</td>\n",
       "      <td>0.401989</td>\n",
       "      <td>-0.344495</td>\n",
       "      <td>-0.721797</td>\n",
       "      <td>-0.794417</td>\n",
       "      <td>0.907428</td>\n",
       "      <td>-0.320245</td>\n",
       "      <td>0.181695</td>\n",
       "      <td>0.272407</td>\n",
       "      <td>0.783989</td>\n",
       "      <td>-0.328456</td>\n",
       "    </tr>\n",
       "    <tr>\n",
       "      <th>253</th>\n",
       "      <td>1.119008</td>\n",
       "      <td>0.577716</td>\n",
       "      <td>-1.286865</td>\n",
       "      <td>1.041881</td>\n",
       "      <td>1.096097</td>\n",
       "      <td>0.482665</td>\n",
       "      <td>-1.165633</td>\n",
       "      <td>1.066791</td>\n",
       "      <td>0.421095</td>\n",
       "      <td>0.735280</td>\n",
       "      <td>-1.125618</td>\n",
       "    </tr>\n",
       "    <tr>\n",
       "      <th>1943</th>\n",
       "      <td>0.056837</td>\n",
       "      <td>-1.341756</td>\n",
       "      <td>-0.466727</td>\n",
       "      <td>0.025348</td>\n",
       "      <td>-0.153242</td>\n",
       "      <td>-0.229841</td>\n",
       "      <td>-0.648739</td>\n",
       "      <td>0.196955</td>\n",
       "      <td>0.887021</td>\n",
       "      <td>-0.150550</td>\n",
       "      <td>-0.754009</td>\n",
       "    </tr>\n",
       "    <tr>\n",
       "      <th>7196</th>\n",
       "      <td>0.908405</td>\n",
       "      <td>1.037307</td>\n",
       "      <td>0.077402</td>\n",
       "      <td>1.044183</td>\n",
       "      <td>1.101175</td>\n",
       "      <td>0.021363</td>\n",
       "      <td>0.124188</td>\n",
       "      <td>0.319038</td>\n",
       "      <td>0.160564</td>\n",
       "      <td>0.098873</td>\n",
       "      <td>0.145046</td>\n",
       "    </tr>\n",
       "  </tbody>\n",
       "</table>\n",
       "</div>"
      ],
      "text/plain": [
       "          QV2M        PS     WS50M       T2M        TS  ALLSKY_SFC_SW_DWN  \\\n",
       "7620  0.798525 -0.044085  1.023715  0.543400  0.383821          -1.152446   \n",
       "7388 -0.780996  0.401989 -0.344495 -0.721797 -0.794417           0.907428   \n",
       "253   1.119008  0.577716 -1.286865  1.041881  1.096097           0.482665   \n",
       "1943  0.056837 -1.341756 -0.466727  0.025348 -0.153242          -0.229841   \n",
       "7196  0.908405  1.037307  0.077402  1.044183  1.101175           0.021363   \n",
       "\n",
       "         WS10M  ALLSKY_SFC_UV_INDEX  CLRSKY_SFC_PAR_TOT  ALLSKY_SFC_PAR_TOT  \\\n",
       "7620  0.612097            -0.901784           -1.071277           -1.126210   \n",
       "7388 -0.320245             0.181695            0.272407            0.783989   \n",
       "253  -1.165633             1.066791            0.421095            0.735280   \n",
       "1943 -0.648739             0.196955            0.887021           -0.150550   \n",
       "7196  0.124188             0.319038            0.160564            0.098873   \n",
       "\n",
       "          WS2M  \n",
       "7620  0.504667  \n",
       "7388 -0.328456  \n",
       "253  -1.125618  \n",
       "1943 -0.754009  \n",
       "7196  0.145046  "
      ]
     },
     "execution_count": 629,
     "metadata": {},
     "output_type": "execute_result"
    }
   ],
   "source": [
    "X = weather_df.loc[:,['QV2M', 'PS', 'WS50M','T2M','TS','ALLSKY_SFC_SW_DWN','WS10M','ALLSKY_SFC_UV_INDEX','CLRSKY_SFC_PAR_TOT','ALLSKY_SFC_PAR_TOT','WS2M']]\n",
    "Y = weather_df.loc[:,'PRECTOTCORR']\n",
    "\n",
    "X_train, X_test,Y_train, Y_test=train_test_split(X,Y, test_size=0.2,random_state=100)\n",
    "mean=X.mean()\n",
    "std=X.std()\n",
    "X_train_n=(X_train-mean)/std\n",
    "X_test_n=(X_test-mean)/std\n",
    "X_train_n.head()"
   ]
  },
  {
   "cell_type": "code",
   "execution_count": 630,
   "id": "30daea10",
   "metadata": {},
   "outputs": [],
   "source": [
    "#======================================================\n",
    "# setup model parameters, choose RFR or XGB\n",
    "# if you comment out a parameter it will use default value\n",
    "#======================================================\n",
    "# RFR parameters (random forest regression)\n",
    "params_rfr = {'n_estimators':1000,\n",
    "              'criterion':'mse', \n",
    "              #'ccp_alpha':0.001,\n",
    "              'max_depth': 20,\n",
    "              #'min_samples_leaf':1,\n",
    "              #'min_samples_split':5,\n",
    "              'bootstrap':True,\n",
    "              'max_features':None}\n",
    "\n",
    "\n",
    "# XGB parameters (extreme gradient boosting)\n",
    "params_xgb = {'objective': 'reg:squarederror',\n",
    "              #'base_score': 0.5,     # chosen as median of validation set\n",
    "              'n_estimators': 2000,  # number of trees to use\n",
    "              #'learning_rate': 0.01, \n",
    "              'max_depth': 15,       # how many levels are in each tree\n",
    "              #'subsample': 1,\n",
    "              #'colsample_bytree': 0.8,\n",
    "              # REGULARIZATION  alpha (L2) and lambda (L1)\n",
    "              'reg_alpha': 0,\n",
    "              'reg_lambda': 1,}"
   ]
  },
  {
   "cell_type": "code",
   "execution_count": 631,
   "id": "0524dc41",
   "metadata": {},
   "outputs": [],
   "source": [
    "#======================================================\n",
    "# define the model, uncomment the one you want to use\n",
    "#======================================================\n",
    "#model = RandomForestRegressor(**params_rfr)\n",
    "model = XGBRegressor(**params_xgb)"
   ]
  },
  {
   "cell_type": "code",
   "execution_count": 632,
   "id": "3735cd2a",
   "metadata": {},
   "outputs": [
    {
     "name": "stdout",
     "output_type": "stream",
     "text": [
      "Wall time: 4.83 s\n"
     ]
    },
    {
     "data": {
      "text/plain": [
       "XGBRegressor(base_score=0.5, booster='gbtree', colsample_bylevel=1,\n",
       "             colsample_bynode=1, colsample_bytree=1, gamma=0, gpu_id=-1,\n",
       "             importance_type='gain', interaction_constraints='',\n",
       "             learning_rate=0.300000012, max_delta_step=0, max_depth=15,\n",
       "             min_child_weight=1, missing=nan, monotone_constraints='()',\n",
       "             n_estimators=2000, n_jobs=8, num_parallel_tree=1, random_state=0,\n",
       "             reg_alpha=0, reg_lambda=1, scale_pos_weight=1, subsample=1,\n",
       "             tree_method='exact', validate_parameters=1, verbosity=None)"
      ]
     },
     "execution_count": 632,
     "metadata": {},
     "output_type": "execute_result"
    }
   ],
   "source": [
    "%%time\n",
    "model.fit(X_train, Y_train)"
   ]
  },
  {
   "cell_type": "code",
   "execution_count": 633,
   "id": "2c8b0aa9",
   "metadata": {},
   "outputs": [
    {
     "data": {
      "image/png": "[encoded data removed]",
      "text/plain": [
       "<Figure size 432x288 with 1 Axes>"
      ]
     },
     "metadata": {
      "needs_background": "light"
     },
     "output_type": "display_data"
    }
   ],
   "source": [
    "Y_predict = model.predict(X_test_n)\n",
    "\n",
    "plt.scatter(Y_predict, Y_test)\n",
    "plt.xlabel('Predicted Values')\n",
    "plt.ylabel('True Values')\n",
    "plt.xlim(plt.xlim())\n",
    "plt.ylim(plt.ylim())\n",
    "_=plt.plot([-100,100],[-100,100])"
   ]
  },
  {
   "cell_type": "code",
   "execution_count": 634,
   "id": "c2924ee2",
   "metadata": {},
   "outputs": [
    {
     "data": {
      "image/png": "[encoded data removed]",
      "text/plain": [
       "<Figure size 432x288 with 1 Axes>"
      ]
     },
     "metadata": {
      "needs_background": "light"
     },
     "output_type": "display_data"
    }
   ],
   "source": [
    "# histogram\n",
    "error = Y_predict.reshape(1535,) - Y_test\n",
    "plt.hist(error,bins = 100)\n",
    "plt.xlabel(\"Prediction Error\")\n",
    "plt.ylabel(\"Count\")\n",
    "_=plt.ylabel(\"Count\")"
   ]
  },
  {
   "cell_type": "code",
   "execution_count": 635,
   "id": "95d9c72d",
   "metadata": {},
   "outputs": [
    {
     "data": {
      "text/plain": [
       "-1.2497153129050198"
      ]
     },
     "execution_count": 635,
     "metadata": {},
     "output_type": "execute_result"
    }
   ],
   "source": [
    "from sklearn.metrics import r2_score\n",
    "r2_score(Y_test,Y_predict)"
   ]
  },
  {
   "cell_type": "code",
   "execution_count": 636,
   "id": "9857f688",
   "metadata": {},
   "outputs": [
    {
     "name": "stdout",
     "output_type": "stream",
     "text": [
      "the mse is 162.8974448852267\n"
     ]
    }
   ],
   "source": [
    "mse = mean_squared_error(Y_test, Y_predict)\n",
    "print(f'the mse is {mse}')"
   ]
  },
  {
   "cell_type": "code",
   "execution_count": 637,
   "id": "fbb6a8aa",
   "metadata": {},
   "outputs": [
    {
     "name": "stdout",
     "output_type": "stream",
     "text": [
      "MAE: 11.837515555763867\n"
     ]
    }
   ],
   "source": [
    "from sklearn import metrics\n",
    "print('MAE:',metrics.mean_absolute_error(Y_test,Y_predict))"
   ]
  },
  {
   "cell_type": "code",
   "execution_count": 638,
   "id": "f4c7b733",
   "metadata": {},
   "outputs": [],
   "source": [
    "def plot_feature_importance(importance, names):\n",
    "    '''\n",
    "    this code is from here: \n",
    "    https://www.analyseup.com/learn-python-for-data-science/python-random-forest-feature-importance-plot.html\n",
    "    '''\n",
    "    #Create arrays from feature importance and feature names\n",
    "    feature_importance = np.array(importance)\n",
    "    feature_names = np.array(names)\n",
    "\n",
    "    #Create a DataFrame using a Dictionary\n",
    "    data={'feature_names':feature_names,'feature_importance':feature_importance}\n",
    "    fi_df = pd.DataFrame(data)\n",
    "\n",
    "    #Sort the DataFrame in order decreasing feature importance\n",
    "    fi_df.sort_values(by=['feature_importance'], ascending=False,inplace=True)\n",
    "\n",
    "    #Define size of bar plot\n",
    "    plt.figure(figsize=(10,8))\n",
    "    #Plot Searborn bar chart\n",
    "    sns.barplot(x=fi_df['feature_importance'], y=fi_df['feature_names'])\n",
    "    #Add chart labels\n",
    "    plt.title('FEATURE IMPORTANCE')\n",
    "    plt.xlabel('FEATURE IMPORTANCE')\n",
    "    plt.ylabel('FEATURE NAMES')"
   ]
  },
  {
   "cell_type": "code",
   "execution_count": 639,
   "id": "142ea75f",
   "metadata": {},
   "outputs": [
    {
     "data": {
      "image/png": "[encoded data removed]",
      "text/plain": [
       "<Figure size 720x576 with 1 Axes>"
      ]
     },
     "metadata": {
      "needs_background": "light"
     },
     "output_type": "display_data"
    }
   ],
   "source": [
    "plot_feature_importance(model.feature_importances_, X.columns)"
   ]
  },
  {
   "cell_type": "code",
   "execution_count": null,
   "id": "68d259fb",
   "metadata": {},
   "outputs": [],
   "source": []
  }
 ],
 "metadata": {
  "kernelspec": {
   "display_name": "keras",
   "language": "python",
   "name": "keras"
  },
  "language_info": {
   "codemirror_mode": {
    "name": "ipython",
    "version": 3
   },
   "file_extension": ".py",
   "mimetype": "text/x-python",
   "name": "python",
   "nbconvert_exporter": "python",
   "pygments_lexer": "ipython3",
   "version": "3.7.11"
  }
 },
 "nbformat": 4,
 "nbformat_minor": 5
}
