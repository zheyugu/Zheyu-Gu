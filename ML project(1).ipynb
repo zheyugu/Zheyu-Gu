{
 "cells": [
  {
   "cell_type": "code",
   "execution_count": 1,
   "id": "83d55c8a",
   "metadata": {},
   "outputs": [
    {
     "name": "stderr",
     "output_type": "stream",
     "text": [
      "C:\\Users\\12757\\anaconda3\\envs\\keras\\lib\\site-packages\\tensorflow\\python\\framework\\dtypes.py:516: FutureWarning: Passing (type, 1) or '1type' as a synonym of type is deprecated; in a future version of numpy, it will be understood as (type, (1,)) / '(1,)type'.\n",
      "  _np_qint8 = np.dtype([(\"qint8\", np.int8, 1)])\n",
      "C:\\Users\\12757\\anaconda3\\envs\\keras\\lib\\site-packages\\tensorflow\\python\\framework\\dtypes.py:517: FutureWarning: Passing (type, 1) or '1type' as a synonym of type is deprecated; in a future version of numpy, it will be understood as (type, (1,)) / '(1,)type'.\n",
      "  _np_quint8 = np.dtype([(\"quint8\", np.uint8, 1)])\n",
      "C:\\Users\\12757\\anaconda3\\envs\\keras\\lib\\site-packages\\tensorflow\\python\\framework\\dtypes.py:518: FutureWarning: Passing (type, 1) or '1type' as a synonym of type is deprecated; in a future version of numpy, it will be understood as (type, (1,)) / '(1,)type'.\n",
      "  _np_qint16 = np.dtype([(\"qint16\", np.int16, 1)])\n",
      "C:\\Users\\12757\\anaconda3\\envs\\keras\\lib\\site-packages\\tensorflow\\python\\framework\\dtypes.py:519: FutureWarning: Passing (type, 1) or '1type' as a synonym of type is deprecated; in a future version of numpy, it will be understood as (type, (1,)) / '(1,)type'.\n",
      "  _np_quint16 = np.dtype([(\"quint16\", np.uint16, 1)])\n",
      "C:\\Users\\12757\\anaconda3\\envs\\keras\\lib\\site-packages\\tensorflow\\python\\framework\\dtypes.py:520: FutureWarning: Passing (type, 1) or '1type' as a synonym of type is deprecated; in a future version of numpy, it will be understood as (type, (1,)) / '(1,)type'.\n",
      "  _np_qint32 = np.dtype([(\"qint32\", np.int32, 1)])\n",
      "C:\\Users\\12757\\anaconda3\\envs\\keras\\lib\\site-packages\\tensorflow\\python\\framework\\dtypes.py:525: FutureWarning: Passing (type, 1) or '1type' as a synonym of type is deprecated; in a future version of numpy, it will be understood as (type, (1,)) / '(1,)type'.\n",
      "  np_resource = np.dtype([(\"resource\", np.ubyte, 1)])\n",
      "C:\\Users\\12757\\anaconda3\\envs\\keras\\lib\\site-packages\\tensorboard\\compat\\tensorflow_stub\\dtypes.py:541: FutureWarning: Passing (type, 1) or '1type' as a synonym of type is deprecated; in a future version of numpy, it will be understood as (type, (1,)) / '(1,)type'.\n",
      "  _np_qint8 = np.dtype([(\"qint8\", np.int8, 1)])\n",
      "C:\\Users\\12757\\anaconda3\\envs\\keras\\lib\\site-packages\\tensorboard\\compat\\tensorflow_stub\\dtypes.py:542: FutureWarning: Passing (type, 1) or '1type' as a synonym of type is deprecated; in a future version of numpy, it will be understood as (type, (1,)) / '(1,)type'.\n",
      "  _np_quint8 = np.dtype([(\"quint8\", np.uint8, 1)])\n",
      "C:\\Users\\12757\\anaconda3\\envs\\keras\\lib\\site-packages\\tensorboard\\compat\\tensorflow_stub\\dtypes.py:543: FutureWarning: Passing (type, 1) or '1type' as a synonym of type is deprecated; in a future version of numpy, it will be understood as (type, (1,)) / '(1,)type'.\n",
      "  _np_qint16 = np.dtype([(\"qint16\", np.int16, 1)])\n",
      "C:\\Users\\12757\\anaconda3\\envs\\keras\\lib\\site-packages\\tensorboard\\compat\\tensorflow_stub\\dtypes.py:544: FutureWarning: Passing (type, 1) or '1type' as a synonym of type is deprecated; in a future version of numpy, it will be understood as (type, (1,)) / '(1,)type'.\n",
      "  _np_quint16 = np.dtype([(\"quint16\", np.uint16, 1)])\n",
      "C:\\Users\\12757\\anaconda3\\envs\\keras\\lib\\site-packages\\tensorboard\\compat\\tensorflow_stub\\dtypes.py:545: FutureWarning: Passing (type, 1) or '1type' as a synonym of type is deprecated; in a future version of numpy, it will be understood as (type, (1,)) / '(1,)type'.\n",
      "  _np_qint32 = np.dtype([(\"qint32\", np.int32, 1)])\n",
      "C:\\Users\\12757\\anaconda3\\envs\\keras\\lib\\site-packages\\tensorboard\\compat\\tensorflow_stub\\dtypes.py:550: FutureWarning: Passing (type, 1) or '1type' as a synonym of type is deprecated; in a future version of numpy, it will be understood as (type, (1,)) / '(1,)type'.\n",
      "  np_resource = np.dtype([(\"resource\", np.ubyte, 1)])\n"
     ]
    }
   ],
   "source": [
    "import numpy as np\n",
    "import pandas as pd\n",
    "import matplotlib.pyplot as plt\n",
    "from sklearn.model_selection import train_test_split\n",
    "\n",
    "import tensorflow as tf\n",
    "from tensorflow import keras"
   ]
  },
  {
   "cell_type": "code",
   "execution_count": 2,
   "id": "313bf0ec",
   "metadata": {},
   "outputs": [
    {
     "data": {
      "text/html": [
       "<div>\n",
       "<style scoped>\n",
       "    .dataframe tbody tr th:only-of-type {\n",
       "        vertical-align: middle;\n",
       "    }\n",
       "\n",
       "    .dataframe tbody tr th {\n",
       "        vertical-align: top;\n",
       "    }\n",
       "\n",
       "    .dataframe thead th {\n",
       "        text-align: right;\n",
       "    }\n",
       "</style>\n",
       "<table border=\"1\" class=\"dataframe\">\n",
       "  <thead>\n",
       "    <tr style=\"text-align: right;\">\n",
       "      <th></th>\n",
       "      <th>PRECTOTCORR</th>\n",
       "      <th>QV2M</th>\n",
       "      <th>PS</th>\n",
       "      <th>WS50M</th>\n",
       "      <th>T2M</th>\n",
       "      <th>TS</th>\n",
       "      <th>ALLSKY_SFC_SW_DWN</th>\n",
       "      <th>WS10M</th>\n",
       "      <th>ALLSKY_SFC_UV_INDEX</th>\n",
       "      <th>CLRSKY_SFC_PAR_TOT</th>\n",
       "      <th>ALLSKY_SFC_PAR_TOT</th>\n",
       "      <th>WS2M</th>\n",
       "    </tr>\n",
       "  </thead>\n",
       "  <tbody>\n",
       "    <tr>\n",
       "      <th>0</th>\n",
       "      <td>0.00</td>\n",
       "      <td>5.00</td>\n",
       "      <td>102.31</td>\n",
       "      <td>5.64</td>\n",
       "      <td>5.01</td>\n",
       "      <td>5.73</td>\n",
       "      <td>1.78</td>\n",
       "      <td>4.37</td>\n",
       "      <td>0.16</td>\n",
       "      <td>43.41</td>\n",
       "      <td>34.7</td>\n",
       "      <td>3.45</td>\n",
       "    </tr>\n",
       "    <tr>\n",
       "      <th>1</th>\n",
       "      <td>0.05</td>\n",
       "      <td>6.29</td>\n",
       "      <td>101.94</td>\n",
       "      <td>7.93</td>\n",
       "      <td>7.73</td>\n",
       "      <td>7.12</td>\n",
       "      <td>1.74</td>\n",
       "      <td>5.63</td>\n",
       "      <td>0.18</td>\n",
       "      <td>44.10</td>\n",
       "      <td>34.5</td>\n",
       "      <td>4.35</td>\n",
       "    </tr>\n",
       "    <tr>\n",
       "      <th>2</th>\n",
       "      <td>2.75</td>\n",
       "      <td>7.14</td>\n",
       "      <td>101.70</td>\n",
       "      <td>7.69</td>\n",
       "      <td>9.68</td>\n",
       "      <td>8.51</td>\n",
       "      <td>1.49</td>\n",
       "      <td>5.07</td>\n",
       "      <td>0.20</td>\n",
       "      <td>44.27</td>\n",
       "      <td>30.3</td>\n",
       "      <td>3.78</td>\n",
       "    </tr>\n",
       "    <tr>\n",
       "      <th>3</th>\n",
       "      <td>12.34</td>\n",
       "      <td>8.12</td>\n",
       "      <td>100.74</td>\n",
       "      <td>12.53</td>\n",
       "      <td>11.35</td>\n",
       "      <td>9.63</td>\n",
       "      <td>1.12</td>\n",
       "      <td>9.12</td>\n",
       "      <td>0.18</td>\n",
       "      <td>43.63</td>\n",
       "      <td>23.5</td>\n",
       "      <td>7.01</td>\n",
       "    </tr>\n",
       "    <tr>\n",
       "      <th>4</th>\n",
       "      <td>4.00</td>\n",
       "      <td>3.42</td>\n",
       "      <td>101.91</td>\n",
       "      <td>9.95</td>\n",
       "      <td>2.76</td>\n",
       "      <td>5.51</td>\n",
       "      <td>2.62</td>\n",
       "      <td>8.23</td>\n",
       "      <td>0.17</td>\n",
       "      <td>43.88</td>\n",
       "      <td>49.2</td>\n",
       "      <td>6.63</td>\n",
       "    </tr>\n",
       "  </tbody>\n",
       "</table>\n",
       "</div>"
      ],
      "text/plain": [
       "   PRECTOTCORR  QV2M      PS  WS50M    T2M    TS  ALLSKY_SFC_SW_DWN  WS10M  \\\n",
       "0         0.00  5.00  102.31   5.64   5.01  5.73               1.78   4.37   \n",
       "1         0.05  6.29  101.94   7.93   7.73  7.12               1.74   5.63   \n",
       "2         2.75  7.14  101.70   7.69   9.68  8.51               1.49   5.07   \n",
       "3        12.34  8.12  100.74  12.53  11.35  9.63               1.12   9.12   \n",
       "4         4.00  3.42  101.91   9.95   2.76  5.51               2.62   8.23   \n",
       "\n",
       "   ALLSKY_SFC_UV_INDEX  CLRSKY_SFC_PAR_TOT  ALLSKY_SFC_PAR_TOT  WS2M  \n",
       "0                 0.16               43.41                34.7  3.45  \n",
       "1                 0.18               44.10                34.5  4.35  \n",
       "2                 0.20               44.27                30.3  3.78  \n",
       "3                 0.18               43.63                23.5  7.01  \n",
       "4                 0.17               43.88                49.2  6.63  "
      ]
     },
     "execution_count": 2,
     "metadata": {},
     "output_type": "execute_result"
    }
   ],
   "source": [
    "weather_df = pd.read_csv('data2.csv')\n",
    "weather_df.head()"
   ]
  },
  {
   "cell_type": "markdown",
   "id": "f8c39721",
   "metadata": {},
   "source": [
    "NASA/POWER CERES/MERRA2 Native Resolution Daily Data \n",
    "Dates (month/day/year): 01/01/2000 through 01/01/2021 \n",
    "Location: Latitude  40.7306   Longitude -73.9352 \n",
    "Elevation from MERRA-2: Average for 0.5 x 0.625 degree lat/lon region = 10.17 meters\n",
    "Value for missing model data cannot be computed or out of model availability range: -999 \n",
    "Parameter(s): \n",
    "PRECTOTCORR             MERRA-2 Precipitation Corrected (mm) \n",
    "QV2M                    MERRA-2 Specific Humidity at 2 Meters (g/kg) \n",
    "PS                      MERRA-2 Surface Pressure (kPa) \n",
    "WS50M                   MERRA-2 Wind Speed at 50 Meters (m/s) \n",
    "T2M                     MERRA-2 Temperature at 2 Meters (C) \n",
    "TS                      MERRA-2 Earth Skin Temperature (C) \n",
    "ALLSKY_SFC_SW_DWN       CERES SYN1deg All Sky Surface Shortwave Downward Irradiance (kW-hr/m^2/day) \n",
    "WS10M                   MERRA-2 Wind Speed at 10 Meters (m/s) \n",
    "ALLSKY_SFC_UV_INDEX     CERES SYN1deg All Sky Surface UV Index (dimensionless) \n",
    "CLRSKY_SFC_PAR_TOT      CERES SYN1deg Clear Sky Surface PAR Total (W/m^2) \n",
    "ALLSKY_SFC_PAR_TOT      CERES SYN1deg All Sky Surface PAR Total (W/m^2) \n",
    "WS2M                    MERRA-2 Wind Speed at 2 Meters (m/s) \n"
   ]
  },
  {
   "cell_type": "code",
   "execution_count": 3,
   "id": "e1c74cfc",
   "metadata": {},
   "outputs": [
    {
     "data": {
      "text/plain": [
       "(7672, 12)"
      ]
     },
     "execution_count": 3,
     "metadata": {},
     "output_type": "execute_result"
    }
   ],
   "source": [
    "weather_df.shape"
   ]
  },
  {
   "cell_type": "code",
   "execution_count": 4,
   "id": "7d013139",
   "metadata": {},
   "outputs": [
    {
     "data": {
      "text/plain": [
       "PRECTOTCORR            False\n",
       "QV2M                   False\n",
       "PS                     False\n",
       "WS50M                  False\n",
       "T2M                    False\n",
       "TS                     False\n",
       "ALLSKY_SFC_SW_DWN      False\n",
       "WS10M                  False\n",
       "ALLSKY_SFC_UV_INDEX    False\n",
       "CLRSKY_SFC_PAR_TOT     False\n",
       "ALLSKY_SFC_PAR_TOT     False\n",
       "WS2M                   False\n",
       "dtype: bool"
      ]
     },
     "execution_count": 4,
     "metadata": {},
     "output_type": "execute_result"
    }
   ],
   "source": [
    "weather_df.isnull().any()"
   ]
  },
  {
   "cell_type": "code",
   "execution_count": 5,
   "id": "4010a0be",
   "metadata": {},
   "outputs": [
    {
     "data": {
      "text/html": [
       "<div>\n",
       "<style scoped>\n",
       "    .dataframe tbody tr th:only-of-type {\n",
       "        vertical-align: middle;\n",
       "    }\n",
       "\n",
       "    .dataframe tbody tr th {\n",
       "        vertical-align: top;\n",
       "    }\n",
       "\n",
       "    .dataframe thead th {\n",
       "        text-align: right;\n",
       "    }\n",
       "</style>\n",
       "<table border=\"1\" class=\"dataframe\">\n",
       "  <thead>\n",
       "    <tr style=\"text-align: right;\">\n",
       "      <th></th>\n",
       "      <th>QV2M</th>\n",
       "      <th>PS</th>\n",
       "      <th>WS50M</th>\n",
       "      <th>T2M</th>\n",
       "      <th>TS</th>\n",
       "      <th>ALLSKY_SFC_SW_DWN</th>\n",
       "      <th>WS10M</th>\n",
       "      <th>ALLSKY_SFC_UV_INDEX</th>\n",
       "      <th>CLRSKY_SFC_PAR_TOT</th>\n",
       "      <th>ALLSKY_SFC_PAR_TOT</th>\n",
       "      <th>WS2M</th>\n",
       "    </tr>\n",
       "  </thead>\n",
       "  <tbody>\n",
       "    <tr>\n",
       "      <th>0</th>\n",
       "      <td>5.00</td>\n",
       "      <td>102.31</td>\n",
       "      <td>5.64</td>\n",
       "      <td>5.01</td>\n",
       "      <td>5.73</td>\n",
       "      <td>1.78</td>\n",
       "      <td>4.37</td>\n",
       "      <td>0.16</td>\n",
       "      <td>43.41</td>\n",
       "      <td>34.7</td>\n",
       "      <td>3.45</td>\n",
       "    </tr>\n",
       "    <tr>\n",
       "      <th>1</th>\n",
       "      <td>6.29</td>\n",
       "      <td>101.94</td>\n",
       "      <td>7.93</td>\n",
       "      <td>7.73</td>\n",
       "      <td>7.12</td>\n",
       "      <td>1.74</td>\n",
       "      <td>5.63</td>\n",
       "      <td>0.18</td>\n",
       "      <td>44.10</td>\n",
       "      <td>34.5</td>\n",
       "      <td>4.35</td>\n",
       "    </tr>\n",
       "    <tr>\n",
       "      <th>2</th>\n",
       "      <td>7.14</td>\n",
       "      <td>101.70</td>\n",
       "      <td>7.69</td>\n",
       "      <td>9.68</td>\n",
       "      <td>8.51</td>\n",
       "      <td>1.49</td>\n",
       "      <td>5.07</td>\n",
       "      <td>0.20</td>\n",
       "      <td>44.27</td>\n",
       "      <td>30.3</td>\n",
       "      <td>3.78</td>\n",
       "    </tr>\n",
       "    <tr>\n",
       "      <th>3</th>\n",
       "      <td>8.12</td>\n",
       "      <td>100.74</td>\n",
       "      <td>12.53</td>\n",
       "      <td>11.35</td>\n",
       "      <td>9.63</td>\n",
       "      <td>1.12</td>\n",
       "      <td>9.12</td>\n",
       "      <td>0.18</td>\n",
       "      <td>43.63</td>\n",
       "      <td>23.5</td>\n",
       "      <td>7.01</td>\n",
       "    </tr>\n",
       "    <tr>\n",
       "      <th>4</th>\n",
       "      <td>3.42</td>\n",
       "      <td>101.91</td>\n",
       "      <td>9.95</td>\n",
       "      <td>2.76</td>\n",
       "      <td>5.51</td>\n",
       "      <td>2.62</td>\n",
       "      <td>8.23</td>\n",
       "      <td>0.17</td>\n",
       "      <td>43.88</td>\n",
       "      <td>49.2</td>\n",
       "      <td>6.63</td>\n",
       "    </tr>\n",
       "  </tbody>\n",
       "</table>\n",
       "</div>"
      ],
      "text/plain": [
       "   QV2M      PS  WS50M    T2M    TS  ALLSKY_SFC_SW_DWN  WS10M  \\\n",
       "0  5.00  102.31   5.64   5.01  5.73               1.78   4.37   \n",
       "1  6.29  101.94   7.93   7.73  7.12               1.74   5.63   \n",
       "2  7.14  101.70   7.69   9.68  8.51               1.49   5.07   \n",
       "3  8.12  100.74  12.53  11.35  9.63               1.12   9.12   \n",
       "4  3.42  101.91   9.95   2.76  5.51               2.62   8.23   \n",
       "\n",
       "   ALLSKY_SFC_UV_INDEX  CLRSKY_SFC_PAR_TOT  ALLSKY_SFC_PAR_TOT  WS2M  \n",
       "0                 0.16               43.41                34.7  3.45  \n",
       "1                 0.18               44.10                34.5  4.35  \n",
       "2                 0.20               44.27                30.3  3.78  \n",
       "3                 0.18               43.63                23.5  7.01  \n",
       "4                 0.17               43.88                49.2  6.63  "
      ]
     },
     "execution_count": 5,
     "metadata": {},
     "output_type": "execute_result"
    }
   ],
   "source": [
    "weather_df_num=weather_df.loc[:,[ 'QV2M', 'PS', 'WS50M','T2M','TS','ALLSKY_SFC_SW_DWN','WS10M','ALLSKY_SFC_UV_INDEX','CLRSKY_SFC_PAR_TOT','ALLSKY_SFC_PAR_TOT','WS2M']] #want to predict PRCP from the rest\n",
    "weather_df_num.head()#seperate precipitation from AWND(Monthly Average Wind Speed),HDSD(Heating Degree Days (season-to-date)),Snowfall and TAVG(Average Temperature)"
   ]
  },
  {
   "cell_type": "code",
   "execution_count": 6,
   "id": "2c714925",
   "metadata": {},
   "outputs": [
    {
     "data": {
      "text/html": [
       "<div>\n",
       "<style scoped>\n",
       "    .dataframe tbody tr th:only-of-type {\n",
       "        vertical-align: middle;\n",
       "    }\n",
       "\n",
       "    .dataframe tbody tr th {\n",
       "        vertical-align: top;\n",
       "    }\n",
       "\n",
       "    .dataframe thead th {\n",
       "        text-align: right;\n",
       "    }\n",
       "</style>\n",
       "<table border=\"1\" class=\"dataframe\">\n",
       "  <thead>\n",
       "    <tr style=\"text-align: right;\">\n",
       "      <th></th>\n",
       "      <th>QV2M</th>\n",
       "      <th>PS</th>\n",
       "      <th>WS50M</th>\n",
       "      <th>T2M</th>\n",
       "      <th>TS</th>\n",
       "      <th>ALLSKY_SFC_SW_DWN</th>\n",
       "      <th>WS10M</th>\n",
       "      <th>ALLSKY_SFC_UV_INDEX</th>\n",
       "      <th>CLRSKY_SFC_PAR_TOT</th>\n",
       "      <th>ALLSKY_SFC_PAR_TOT</th>\n",
       "      <th>WS2M</th>\n",
       "    </tr>\n",
       "  </thead>\n",
       "  <tbody>\n",
       "    <tr>\n",
       "      <th>7620</th>\n",
       "      <td>0.798525</td>\n",
       "      <td>-0.044085</td>\n",
       "      <td>1.023715</td>\n",
       "      <td>0.543400</td>\n",
       "      <td>0.383821</td>\n",
       "      <td>-1.152446</td>\n",
       "      <td>0.612097</td>\n",
       "      <td>-0.901784</td>\n",
       "      <td>-1.071277</td>\n",
       "      <td>-1.126210</td>\n",
       "      <td>0.504667</td>\n",
       "    </tr>\n",
       "    <tr>\n",
       "      <th>7388</th>\n",
       "      <td>-0.780996</td>\n",
       "      <td>0.401989</td>\n",
       "      <td>-0.344495</td>\n",
       "      <td>-0.721797</td>\n",
       "      <td>-0.794417</td>\n",
       "      <td>0.907428</td>\n",
       "      <td>-0.320245</td>\n",
       "      <td>0.181695</td>\n",
       "      <td>0.272407</td>\n",
       "      <td>0.783989</td>\n",
       "      <td>-0.328456</td>\n",
       "    </tr>\n",
       "    <tr>\n",
       "      <th>253</th>\n",
       "      <td>1.119008</td>\n",
       "      <td>0.577716</td>\n",
       "      <td>-1.286865</td>\n",
       "      <td>1.041881</td>\n",
       "      <td>1.096097</td>\n",
       "      <td>0.482665</td>\n",
       "      <td>-1.165633</td>\n",
       "      <td>1.066791</td>\n",
       "      <td>0.421095</td>\n",
       "      <td>0.735280</td>\n",
       "      <td>-1.125618</td>\n",
       "    </tr>\n",
       "    <tr>\n",
       "      <th>1943</th>\n",
       "      <td>0.056837</td>\n",
       "      <td>-1.341756</td>\n",
       "      <td>-0.466727</td>\n",
       "      <td>0.025348</td>\n",
       "      <td>-0.153242</td>\n",
       "      <td>-0.229841</td>\n",
       "      <td>-0.648739</td>\n",
       "      <td>0.196955</td>\n",
       "      <td>0.887021</td>\n",
       "      <td>-0.150550</td>\n",
       "      <td>-0.754009</td>\n",
       "    </tr>\n",
       "    <tr>\n",
       "      <th>7196</th>\n",
       "      <td>0.908405</td>\n",
       "      <td>1.037307</td>\n",
       "      <td>0.077402</td>\n",
       "      <td>1.044183</td>\n",
       "      <td>1.101175</td>\n",
       "      <td>0.021363</td>\n",
       "      <td>0.124188</td>\n",
       "      <td>0.319038</td>\n",
       "      <td>0.160564</td>\n",
       "      <td>0.098873</td>\n",
       "      <td>0.145046</td>\n",
       "    </tr>\n",
       "  </tbody>\n",
       "</table>\n",
       "</div>"
      ],
      "text/plain": [
       "          QV2M        PS     WS50M       T2M        TS  ALLSKY_SFC_SW_DWN  \\\n",
       "7620  0.798525 -0.044085  1.023715  0.543400  0.383821          -1.152446   \n",
       "7388 -0.780996  0.401989 -0.344495 -0.721797 -0.794417           0.907428   \n",
       "253   1.119008  0.577716 -1.286865  1.041881  1.096097           0.482665   \n",
       "1943  0.056837 -1.341756 -0.466727  0.025348 -0.153242          -0.229841   \n",
       "7196  0.908405  1.037307  0.077402  1.044183  1.101175           0.021363   \n",
       "\n",
       "         WS10M  ALLSKY_SFC_UV_INDEX  CLRSKY_SFC_PAR_TOT  ALLSKY_SFC_PAR_TOT  \\\n",
       "7620  0.612097            -0.901784           -1.071277           -1.126210   \n",
       "7388 -0.320245             0.181695            0.272407            0.783989   \n",
       "253  -1.165633             1.066791            0.421095            0.735280   \n",
       "1943 -0.648739             0.196955            0.887021           -0.150550   \n",
       "7196  0.124188             0.319038            0.160564            0.098873   \n",
       "\n",
       "          WS2M  \n",
       "7620  0.504667  \n",
       "7388 -0.328456  \n",
       "253  -1.125618  \n",
       "1943 -0.754009  \n",
       "7196  0.145046  "
      ]
     },
     "execution_count": 6,
     "metadata": {},
     "output_type": "execute_result"
    }
   ],
   "source": [
    "X = weather_df.loc[:,['QV2M', 'PS', 'WS50M','T2M','TS','ALLSKY_SFC_SW_DWN','WS10M','ALLSKY_SFC_UV_INDEX','CLRSKY_SFC_PAR_TOT','ALLSKY_SFC_PAR_TOT','WS2M']]\n",
    "Y = weather_df.loc[:,'PRECTOTCORR']\n",
    "\n",
    "X_train, X_test,Y_train, Y_test=train_test_split(X,Y, test_size=0.2,random_state=100)\n",
    "mean=X.mean()\n",
    "std=X.std()\n",
    "X_train_n=(X_train-mean)/std\n",
    "X_test_n=(X_test-mean)/std\n",
    "X_train_n.head()"
   ]
  },
  {
   "cell_type": "code",
   "execution_count": 7,
   "id": "45ace832",
   "metadata": {},
   "outputs": [
    {
     "name": "stdout",
     "output_type": "stream",
     "text": [
      "(6137, 11)\n",
      "(1535, 11)\n",
      "(6137,)\n"
     ]
    }
   ],
   "source": [
    "print(X_train.shape)\n",
    "print(X_test.shape)\n",
    "print(Y_train.shape)"
   ]
  },
  {
   "cell_type": "code",
   "execution_count": 8,
   "id": "10fd56db",
   "metadata": {},
   "outputs": [
    {
     "data": {
      "text/plain": [
       "(7672, 11)"
      ]
     },
     "execution_count": 8,
     "metadata": {},
     "output_type": "execute_result"
    }
   ],
   "source": [
    "weather_df_num.shape"
   ]
  },
  {
   "cell_type": "code",
   "execution_count": 9,
   "id": "46d7e59b",
   "metadata": {},
   "outputs": [
    {
     "data": {
      "text/plain": [
       "Index(['QV2M', 'PS', 'WS50M', 'T2M', 'TS', 'ALLSKY_SFC_SW_DWN', 'WS10M',\n",
       "       'ALLSKY_SFC_UV_INDEX', 'CLRSKY_SFC_PAR_TOT', 'ALLSKY_SFC_PAR_TOT',\n",
       "       'WS2M'],\n",
       "      dtype='object')"
      ]
     },
     "execution_count": 9,
     "metadata": {},
     "output_type": "execute_result"
    }
   ],
   "source": [
    "weather_df_num.columns"
   ]
  },
  {
   "cell_type": "code",
   "execution_count": 10,
   "id": "683d3a43",
   "metadata": {},
   "outputs": [
    {
     "name": "stdout",
     "output_type": "stream",
     "text": [
      "WARNING:tensorflow:From C:\\Users\\12757\\anaconda3\\envs\\keras\\lib\\site-packages\\tensorflow\\python\\ops\\init_ops.py:1251: calling VarianceScaling.__init__ (from tensorflow.python.ops.init_ops) with dtype is deprecated and will be removed in a future version.\n",
      "Instructions for updating:\n",
      "Call initializer instance with the dtype argument instead of passing it to the constructor\n",
      "Model: \"sequential\"\n",
      "_________________________________________________________________\n",
      "Layer (type)                 Output Shape              Param #   \n",
      "=================================================================\n",
      "hidden_layer_1 (Dense)       (None, 256)               3072      \n",
      "_________________________________________________________________\n",
      "hidden_layer_2 (Dense)       (None, 256)               65792     \n",
      "_________________________________________________________________\n",
      "output_layer (Dense)         (None, 1)                 257       \n",
      "=================================================================\n",
      "Total params: 69,121\n",
      "Trainable params: 69,121\n",
      "Non-trainable params: 0\n",
      "_________________________________________________________________\n"
     ]
    }
   ],
   "source": [
    "# Define basic architecture\n",
    "model = keras.Sequential([\n",
    "    keras.layers.Dense(256, activation=tf.nn.relu, #activation=tf.keras.activations.linear,\n",
    "                       input_shape=(X_train.shape[1],),\n",
    "                       name='hidden_layer_1',),\n",
    "    keras.layers.Dense(256, activation=tf.nn.relu,\n",
    "                       name='hidden_layer_2',),\n",
    "   #keras.layers.Dense(4, activation=tf.nn.relu,\n",
    "    #                   name='hidden_layer_3',),\n",
    "    #keras.layers.Dense(32, activation=tf.nn.relu,\n",
    "     #                  name='hidden_layer_4',),\n",
    "    #keras.layers.Dense(16, activation=tf.nn.relu,\n",
    "    #                   input_shape=(16,),\n",
    "    #                   name='hidden_layer_2',),\n",
    "    keras.layers.Dense(1, name='output_layer',)\n",
    "])\n",
    "\n",
    "# Define your optimizer asdf\n",
    "#optimizer = tf.train.AdamOptimizer()\n",
    "optimizer = tf.keras.optimizers.Adam()\n",
    "\n",
    "model.compile(loss='mse',\n",
    "            optimizer=optimizer,\n",
    "            metrics=['mae'])\n",
    "\n",
    "# show a summary of the data\n",
    "model.summary()"
   ]
  },
  {
   "cell_type": "code",
   "execution_count": 11,
   "id": "a4edd273",
   "metadata": {},
   "outputs": [],
   "source": [
    "# Display training progress by printing a single dot for each completed epoch\n",
    "class PrintDot(keras.callbacks.Callback):\n",
    "    def on_epoch_end(self, epoch, logs):\n",
    "        if epoch % 100 == 0: print('')\n",
    "        print('.', end='')\n",
    "        \n",
    "# Function to plot how the model is doing during training\n",
    "# Visualize the model's training progress using the stats stored in the history object. \n",
    "# We want to use this data to determine how long to train before the model stops making progress.\n",
    "def plot_history(history):\n",
    "    plt.figure()\n",
    "    plt.xlabel('Epoch')\n",
    "    plt.ylabel('Mean Abs Error')\n",
    "    plt.plot(history.epoch, np.array(history.history['loss']),\n",
    "           label='Train Loss')\n",
    "    plt.plot(history.epoch, np.array(history.history['val_loss']),\n",
    "           label = 'Val loss')\n",
    "    plt.legend()\n",
    "    #plt.ylim([0, 5])"
   ]
  },
  {
   "cell_type": "code",
   "execution_count": null,
   "id": "79256aa8",
   "metadata": {
    "scrolled": true
   },
   "outputs": [
    {
     "name": "stdout",
     "output_type": "stream",
     "text": [
      "\n",
      ".........."
     ]
    }
   ],
   "source": [
    "# If you train too long, you are prone to over-fitting\n",
    "# this prevents the model from generalizing to data it has never seen before\n",
    "# early stopping is one way to go about this\n",
    "# The patience parameter is the amount of epochs to check for improvement\n",
    "early_stop = keras.callbacks.EarlyStopping(monitor='val_loss', patience=20)\n",
    "\n",
    "# Store training stats\n",
    "history = model.fit(X_train, Y_train, epochs=1000,\n",
    "                    validation_split=0.2, verbose=0,\n",
    "                    callbacks=[early_stop, PrintDot()])\n",
    "\n",
    "plot_history(history)"
   ]
  },
  {
   "cell_type": "code",
   "execution_count": null,
   "id": "a480ffc8",
   "metadata": {},
   "outputs": [],
   "source": [
    "[loss, mae] = model.evaluate(X_test_n, Y_test, verbose=0)\n",
    "\n",
    "\n",
    "\n",
    "print(f'The mean absolute Error is {mae}.')"
   ]
  },
  {
   "cell_type": "code",
   "execution_count": null,
   "id": "30b050d0",
   "metadata": {},
   "outputs": [],
   "source": [
    "Y_predict = model.predict(X_test_n)\n",
    "\n",
    "plt.scatter(Y_predict, Y_test)\n",
    "plt.xlabel('Predicted Values')\n",
    "plt.ylabel('True Values')\n",
    "plt.xlim(plt.xlim())\n",
    "plt.ylim(plt.ylim())\n",
    "_=plt.plot([-100,100],[-100,100])\n"
   ]
  },
  {
   "cell_type": "code",
   "execution_count": null,
   "id": "4e1abb48",
   "metadata": {},
   "outputs": [],
   "source": [
    "from sklearn.metrics import r2_score\n",
    "r2_score(Y_test,Y_predict)"
   ]
  },
  {
   "cell_type": "code",
   "execution_count": null,
   "id": "889eb9cb",
   "metadata": {},
   "outputs": [],
   "source": [
    "error = Y_predict.reshape(1535,) - Y_test\n",
    "plt.xlim(-20,20)\n",
    "plt.hist(error,bins = 100)\n",
    "plt.xlabel(\"Prediction Error\")\n",
    "plt.ylabel(\"Count\")\n",
    "_=plt.ylabel(\"Count\")"
   ]
  },
  {
   "cell_type": "code",
   "execution_count": null,
   "id": "d51ee7c4",
   "metadata": {},
   "outputs": [],
   "source": []
  }
 ],
 "metadata": {
  "kernelspec": {
   "display_name": "keras",
   "language": "python",
   "name": "keras"
  },
  "language_info": {
   "codemirror_mode": {
    "name": "ipython",
    "version": 3
   },
   "file_extension": ".py",
   "mimetype": "text/x-python",
   "name": "python",
   "nbconvert_exporter": "python",
   "pygments_lexer": "ipython3",
   "version": "3.7.11"
  }
 },
 "nbformat": 4,
 "nbformat_minor": 5
}
